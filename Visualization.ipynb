{
 "cells": [
  {
   "cell_type": "code",
   "execution_count": 8,
   "id": "0544382c-c485-4b3d-99f9-c0d2b6c6128f",
   "metadata": {},
   "outputs": [],
   "source": [
    "from mc_moea import *"
   ]
  },
  {
   "cell_type": "code",
   "execution_count": 46,
   "id": "a74a6f52-f258-45af-a3a2-8b0705eb090e",
   "metadata": {},
   "outputs": [],
   "source": [
    "import imageio"
   ]
  },
  {
   "cell_type": "code",
   "execution_count": 9,
   "id": "3411beaa-89db-4ad8-be43-cc535572dbd9",
   "metadata": {},
   "outputs": [],
   "source": [
    "import pickle\n",
    "import glob\n",
    "import pandas as pd\n",
    "import numpy as np\n",
    "import matplotlib.pyplot as plt\n",
    "from tqdm.notebook import tqdm"
   ]
  },
  {
   "cell_type": "code",
   "execution_count": 10,
   "id": "22bdd9f2-0806-43b0-973d-5ead0a03ba6f",
   "metadata": {},
   "outputs": [],
   "source": [
    "fname_l = glob.glob(\"solutions/*.pkl.bz2\")"
   ]
  },
  {
   "cell_type": "code",
   "execution_count": 16,
   "id": "26644c9b-80d0-4295-b5df-552ab26ab580",
   "metadata": {},
   "outputs": [],
   "source": [
    "solutions = pd.read_pickle(\"solutions/best_of_iterations.pkl.bz2\")"
   ]
  },
  {
   "cell_type": "code",
   "execution_count": 17,
   "id": "254caeef-a46d-4a19-be79-791bc5a36653",
   "metadata": {},
   "outputs": [
    {
     "data": {
      "text/html": [
       "<div>\n",
       "<style scoped>\n",
       "    .dataframe tbody tr th:only-of-type {\n",
       "        vertical-align: middle;\n",
       "    }\n",
       "\n",
       "    .dataframe tbody tr th {\n",
       "        vertical-align: top;\n",
       "    }\n",
       "\n",
       "    .dataframe thead th {\n",
       "        text-align: right;\n",
       "    }\n",
       "</style>\n",
       "<table border=\"1\" class=\"dataframe\">\n",
       "  <thead>\n",
       "    <tr style=\"text-align: right;\">\n",
       "      <th></th>\n",
       "      <th>solution_id</th>\n",
       "      <th>solution_obj</th>\n",
       "      <th>from_generation</th>\n",
       "      <th>signal_strength</th>\n",
       "      <th>construction_cost</th>\n",
       "      <th>num_orphans</th>\n",
       "      <th>fitness_value</th>\n",
       "    </tr>\n",
       "  </thead>\n",
       "  <tbody>\n",
       "    <tr>\n",
       "      <th>0</th>\n",
       "      <td>15e86c49-3ffd-4f63-8c8e-5e27e137db42</td>\n",
       "      <td>Solution : 15e86c49-3ffd-4f63-8c8e-5e27e137db4...</td>\n",
       "      <td>-1</td>\n",
       "      <td>-103.611215</td>\n",
       "      <td>10650000</td>\n",
       "      <td>0</td>\n",
       "      <td>1.208170</td>\n",
       "    </tr>\n",
       "    <tr>\n",
       "      <th>494</th>\n",
       "      <td>520f00fd-585f-41e9-85a4-95559cc8a888</td>\n",
       "      <td>Solution : 520f00fd-585f-41e9-85a4-95559cc8a88...</td>\n",
       "      <td>1</td>\n",
       "      <td>-99.736935</td>\n",
       "      <td>11820000</td>\n",
       "      <td>0</td>\n",
       "      <td>1.202199</td>\n",
       "    </tr>\n",
       "    <tr>\n",
       "      <th>414</th>\n",
       "      <td>4333c694-75e7-4432-8954-01b53a5f6b76</td>\n",
       "      <td>Solution : 4333c694-75e7-4432-8954-01b53a5f6b7...</td>\n",
       "      <td>2</td>\n",
       "      <td>-102.907313</td>\n",
       "      <td>11310000</td>\n",
       "      <td>0</td>\n",
       "      <td>1.218271</td>\n",
       "    </tr>\n",
       "    <tr>\n",
       "      <th>478</th>\n",
       "      <td>d0d90393-093d-4bed-8bb7-e53c0c627a5e</td>\n",
       "      <td>Solution : d0d90393-093d-4bed-8bb7-e53c0c627a5...</td>\n",
       "      <td>3</td>\n",
       "      <td>-101.031475</td>\n",
       "      <td>11120000</td>\n",
       "      <td>0</td>\n",
       "      <td>1.196468</td>\n",
       "    </tr>\n",
       "    <tr>\n",
       "      <th>498</th>\n",
       "      <td>e20b9303-f646-44b8-8ebb-43a4ba0e0a27</td>\n",
       "      <td>Solution : e20b9303-f646-44b8-8ebb-43a4ba0e0a2...</td>\n",
       "      <td>4</td>\n",
       "      <td>-102.582403</td>\n",
       "      <td>11300000</td>\n",
       "      <td>0</td>\n",
       "      <td>1.215067</td>\n",
       "    </tr>\n",
       "    <tr>\n",
       "      <th>...</th>\n",
       "      <td>...</td>\n",
       "      <td>...</td>\n",
       "      <td>...</td>\n",
       "      <td>...</td>\n",
       "      <td>...</td>\n",
       "      <td>...</td>\n",
       "      <td>...</td>\n",
       "    </tr>\n",
       "    <tr>\n",
       "      <th>459</th>\n",
       "      <td>7b738c41-ef5e-4615-a6f1-f6fab3c1c623</td>\n",
       "      <td>Solution : 7b738c41-ef5e-4615-a6f1-f6fab3c1c62...</td>\n",
       "      <td>95</td>\n",
       "      <td>-99.481925</td>\n",
       "      <td>12280000</td>\n",
       "      <td>0</td>\n",
       "      <td>1.211381</td>\n",
       "    </tr>\n",
       "    <tr>\n",
       "      <th>479</th>\n",
       "      <td>f26cb537-212d-4f0d-ad35-6e7024a3d9d3</td>\n",
       "      <td>Solution : f26cb537-212d-4f0d-ad35-6e7024a3d9d...</td>\n",
       "      <td>96</td>\n",
       "      <td>-100.829262</td>\n",
       "      <td>12330000</td>\n",
       "      <td>0</td>\n",
       "      <td>1.224880</td>\n",
       "    </tr>\n",
       "    <tr>\n",
       "      <th>438</th>\n",
       "      <td>65a7044b-64fc-4af7-87f9-a85cf5ad901e</td>\n",
       "      <td>Solution : 65a7044b-64fc-4af7-87f9-a85cf5ad901...</td>\n",
       "      <td>97</td>\n",
       "      <td>-98.023692</td>\n",
       "      <td>12570000</td>\n",
       "      <td>0</td>\n",
       "      <td>1.205374</td>\n",
       "    </tr>\n",
       "    <tr>\n",
       "      <th>416</th>\n",
       "      <td>a61c9b77-e22a-419e-8998-76456bdcd38a</td>\n",
       "      <td>Solution : a61c9b77-e22a-419e-8998-76456bdcd38...</td>\n",
       "      <td>98</td>\n",
       "      <td>-103.747431</td>\n",
       "      <td>10970000</td>\n",
       "      <td>0</td>\n",
       "      <td>1.217408</td>\n",
       "    </tr>\n",
       "    <tr>\n",
       "      <th>0</th>\n",
       "      <td>1d5f1b58-bece-454a-b855-7d94103a2443</td>\n",
       "      <td>Solution : 1d5f1b58-bece-454a-b855-7d94103a244...</td>\n",
       "      <td>99</td>\n",
       "      <td>-104.478520</td>\n",
       "      <td>11040000</td>\n",
       "      <td>0</td>\n",
       "      <td>1.225805</td>\n",
       "    </tr>\n",
       "  </tbody>\n",
       "</table>\n",
       "<p>100 rows × 7 columns</p>\n",
       "</div>"
      ],
      "text/plain": [
       "                              solution_id  \\\n",
       "0    15e86c49-3ffd-4f63-8c8e-5e27e137db42   \n",
       "494  520f00fd-585f-41e9-85a4-95559cc8a888   \n",
       "414  4333c694-75e7-4432-8954-01b53a5f6b76   \n",
       "478  d0d90393-093d-4bed-8bb7-e53c0c627a5e   \n",
       "498  e20b9303-f646-44b8-8ebb-43a4ba0e0a27   \n",
       "..                                    ...   \n",
       "459  7b738c41-ef5e-4615-a6f1-f6fab3c1c623   \n",
       "479  f26cb537-212d-4f0d-ad35-6e7024a3d9d3   \n",
       "438  65a7044b-64fc-4af7-87f9-a85cf5ad901e   \n",
       "416  a61c9b77-e22a-419e-8998-76456bdcd38a   \n",
       "0    1d5f1b58-bece-454a-b855-7d94103a2443   \n",
       "\n",
       "                                          solution_obj  from_generation  \\\n",
       "0    Solution : 15e86c49-3ffd-4f63-8c8e-5e27e137db4...               -1   \n",
       "494  Solution : 520f00fd-585f-41e9-85a4-95559cc8a88...                1   \n",
       "414  Solution : 4333c694-75e7-4432-8954-01b53a5f6b7...                2   \n",
       "478  Solution : d0d90393-093d-4bed-8bb7-e53c0c627a5...                3   \n",
       "498  Solution : e20b9303-f646-44b8-8ebb-43a4ba0e0a2...                4   \n",
       "..                                                 ...              ...   \n",
       "459  Solution : 7b738c41-ef5e-4615-a6f1-f6fab3c1c62...               95   \n",
       "479  Solution : f26cb537-212d-4f0d-ad35-6e7024a3d9d...               96   \n",
       "438  Solution : 65a7044b-64fc-4af7-87f9-a85cf5ad901...               97   \n",
       "416  Solution : a61c9b77-e22a-419e-8998-76456bdcd38...               98   \n",
       "0    Solution : 1d5f1b58-bece-454a-b855-7d94103a244...               99   \n",
       "\n",
       "     signal_strength  construction_cost  num_orphans  fitness_value  \n",
       "0        -103.611215           10650000            0       1.208170  \n",
       "494       -99.736935           11820000            0       1.202199  \n",
       "414      -102.907313           11310000            0       1.218271  \n",
       "478      -101.031475           11120000            0       1.196468  \n",
       "498      -102.582403           11300000            0       1.215067  \n",
       "..               ...                ...          ...            ...  \n",
       "459       -99.481925           12280000            0       1.211381  \n",
       "479      -100.829262           12330000            0       1.224880  \n",
       "438       -98.023692           12570000            0       1.205374  \n",
       "416      -103.747431           10970000            0       1.217408  \n",
       "0        -104.478520           11040000            0       1.225805  \n",
       "\n",
       "[100 rows x 7 columns]"
      ]
     },
     "execution_count": 17,
     "metadata": {},
     "output_type": "execute_result"
    }
   ],
   "source": [
    "solutions"
   ]
  },
  {
   "cell_type": "code",
   "execution_count": null,
   "id": "6e0ebc24-c62a-48e6-b487-f06fa19acb18",
   "metadata": {},
   "outputs": [],
   "source": []
  },
  {
   "cell_type": "code",
   "execution_count": 40,
   "id": "c32d9acc-c940-4efa-9539-0d35502cadf0",
   "metadata": {},
   "outputs": [],
   "source": [
    "pos = np.array([[s.x, s.y] for s in solutions[\"solution_obj\"].iloc[0].stations])"
   ]
  },
  {
   "cell_type": "markdown",
   "id": "ff8809b4-2410-4f1c-a624-64154dc434d0",
   "metadata": {},
   "source": [
    "---"
   ]
  },
  {
   "cell_type": "code",
   "execution_count": 18,
   "id": "acbc6381-3d09-4581-9ec7-83b3ab5fcbf0",
   "metadata": {},
   "outputs": [],
   "source": [
    "data = []\n",
    "fnames = glob.glob(\"position/*.dat\")\n",
    "for fname in fnames:\n",
    "    X = pickle.load(open(fname, \"rb\"))\n",
    "    data.append(X)"
   ]
  },
  {
   "cell_type": "code",
   "execution_count": 19,
   "id": "a0a738b8-16d0-4701-adc0-281e27e513b8",
   "metadata": {},
   "outputs": [],
   "source": [
    "bound_max = 800\n",
    "bound_min = -800"
   ]
  },
  {
   "cell_type": "code",
   "execution_count": 48,
   "id": "87bb365c-c31b-4bc6-b2cf-cab71140ec72",
   "metadata": {},
   "outputs": [
    {
     "data": {
      "application/vnd.jupyter.widget-view+json": {
       "model_id": "1ccd4e32f484493a82f20798e3ddd1df",
       "version_major": 2,
       "version_minor": 0
      },
      "text/plain": [
       "  0%|          | 0/100 [00:00<?, ?it/s]"
      ]
     },
     "metadata": {},
     "output_type": "display_data"
    }
   ],
   "source": [
    "for i in tqdm(range(solutions.shape[0])):\n",
    "    pos = np.array([[s.x, s.y] for s in solutions[\"solution_obj\"].iloc[i].stations])\n",
    "    fig, axs = plt.subplots(2,3, figsize=(17,10), sharex=True, sharey=True)\n",
    "    fig.suptitle(f'Solutions from Iter: {i:04d}', fontsize=16)\n",
    "    plt.xlim(-900, 900)\n",
    "    plt.ylim(-900, 900)\n",
    "\n",
    "    axs[0][0].scatter(data[0][:,0], data[0][:,1], s=1.5)\n",
    "    axs[0][0].scatter(pos[:,0], pos[:,1], s=30)\n",
    "    axs[0][0].set_title(\"Pattern I (P = 0.32)\")\n",
    "\n",
    "    axs[0][1].scatter(data[1][:,0], data[1][:,1], s=1.5)\n",
    "    axs[0][1].scatter(pos[:,0], pos[:,1], s=30)\n",
    "    axs[0][1].set_title(\"Pattern II (P = 0.25)\")\n",
    "\n",
    "    axs[0][2].scatter(data[2][:,0], data[2][:,1], s=1.5)\n",
    "    axs[0][2].scatter(pos[:,0], pos[:,1], s=30)\n",
    "    axs[0][2].set_title(\"Pattern III (P = 0.17)\")\n",
    "\n",
    "    axs[1][0].scatter(data[3][:,0], data[3][:,1], s=1.5)\n",
    "    axs[1][0].scatter(pos[:,0], pos[:,1], s=30)\n",
    "    axs[1][0].set_title(\"Pattern IV (P = 0.14)\")\n",
    "\n",
    "    axs[1][1].scatter(data[4][:,0], data[4][:,1], s=1.5)\n",
    "    axs[1][1].scatter(pos[:,0], pos[:,1], s=30)\n",
    "    axs[1][1].set_title(\"Pattern V (P = 0.09)\")\n",
    "\n",
    "    axs[1][2].scatter(data[5][:,0], data[5][:,1], s=1.5)\n",
    "    axs[1][2].scatter(pos[:,0], pos[:,1], s=30)\n",
    "    axs[1][2].set_title(\"Pattern VI (P = 0.03)\")\n",
    "\n",
    "    plt.savefig(f\"figure/output-{i:04d}.png\")\n",
    "    plt.close()"
   ]
  },
  {
   "cell_type": "code",
   "execution_count": 52,
   "id": "a7d551e6-0f5a-4719-bddf-5b0a1207bd5a",
   "metadata": {},
   "outputs": [
    {
     "name": "stderr",
     "output_type": "stream",
     "text": [
      "/tmp/ipykernel_172162/3157470504.py:3: DeprecationWarning: Starting with ImageIO v3 the behavior of this function will switch to that of iio.v3.imread. To keep the current behavior (and make this warning disappear) use `import imageio.v2 as imageio` or call `imageio.v2.imread` directly.\n",
      "  image = imageio.imread(filename)\n"
     ]
    }
   ],
   "source": [
    "with imageio.get_writer('figure/output.gif', mode='I', duration = 0.5) as writer:\n",
    "    for filename in sorted(glob.glob(\"figure/output*.png\")):\n",
    "        image = imageio.imread(filename)\n",
    "        writer.append_data(image)"
   ]
  },
  {
   "cell_type": "code",
   "execution_count": null,
   "id": "d6689b2e-6c90-4cf9-9dce-e5562a4c4780",
   "metadata": {},
   "outputs": [],
   "source": []
  }
 ],
 "metadata": {
  "kernelspec": {
   "display_name": "Python 3 (ipykernel)",
   "language": "python",
   "name": "python3"
  },
  "language_info": {
   "codemirror_mode": {
    "name": "ipython",
    "version": 3
   },
   "file_extension": ".py",
   "mimetype": "text/x-python",
   "name": "python",
   "nbconvert_exporter": "python",
   "pygments_lexer": "ipython3",
   "version": "3.9.7"
  }
 },
 "nbformat": 4,
 "nbformat_minor": 5
}
