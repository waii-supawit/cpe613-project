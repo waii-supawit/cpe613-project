{
 "cells": [
  {
   "cell_type": "code",
   "execution_count": 1,
   "id": "0544382c-c485-4b3d-99f9-c0d2b6c6128f",
   "metadata": {},
   "outputs": [
    {
     "name": "stdout",
     "output_type": "stream",
     "text": [
      "INFO: Pandarallel will run on 10 workers.\n",
      "INFO: Pandarallel will use Memory file system to transfer data between the main process and workers.\n"
     ]
    }
   ],
   "source": [
    "from mc_moea import *"
   ]
  },
  {
   "cell_type": "code",
   "execution_count": 2,
   "id": "a74a6f52-f258-45af-a3a2-8b0705eb090e",
   "metadata": {},
   "outputs": [],
   "source": [
    "import imageio"
   ]
  },
  {
   "cell_type": "code",
   "execution_count": 3,
   "id": "3411beaa-89db-4ad8-be43-cc535572dbd9",
   "metadata": {},
   "outputs": [],
   "source": [
    "import pickle\n",
    "import glob\n",
    "import pandas as pd\n",
    "import numpy as np\n",
    "import matplotlib.pyplot as plt\n",
    "from tqdm.notebook import tqdm"
   ]
  },
  {
   "cell_type": "code",
   "execution_count": 4,
   "id": "22bdd9f2-0806-43b0-973d-5ead0a03ba6f",
   "metadata": {},
   "outputs": [],
   "source": [
    "fname_l = glob.glob(\"solutions/*.pkl.bz2\")"
   ]
  },
  {
   "cell_type": "code",
   "execution_count": 23,
   "id": "26644c9b-80d0-4295-b5df-552ab26ab580",
   "metadata": {},
   "outputs": [],
   "source": [
    "solutions = pd.read_pickle(\"solutions/solution-1000.pkl.bz2\")"
   ]
  },
  {
   "cell_type": "code",
   "execution_count": 24,
   "id": "254caeef-a46d-4a19-be79-791bc5a36653",
   "metadata": {
    "tags": []
   },
   "outputs": [
    {
     "data": {
      "text/html": [
       "<div>\n",
       "<style scoped>\n",
       "    .dataframe tbody tr th:only-of-type {\n",
       "        vertical-align: middle;\n",
       "    }\n",
       "\n",
       "    .dataframe tbody tr th {\n",
       "        vertical-align: top;\n",
       "    }\n",
       "\n",
       "    .dataframe thead th {\n",
       "        text-align: right;\n",
       "    }\n",
       "</style>\n",
       "<table border=\"1\" class=\"dataframe\">\n",
       "  <thead>\n",
       "    <tr style=\"text-align: right;\">\n",
       "      <th></th>\n",
       "      <th>solution_id</th>\n",
       "      <th>solution_obj</th>\n",
       "      <th>from_generation</th>\n",
       "      <th>from_method</th>\n",
       "      <th>signal_strength</th>\n",
       "      <th>construction_cost</th>\n",
       "      <th>num_orphans</th>\n",
       "      <th>fitness_value</th>\n",
       "    </tr>\n",
       "  </thead>\n",
       "  <tbody>\n",
       "    <tr>\n",
       "      <th>0</th>\n",
       "      <td>a1400162-fd5f-4564-8393-c7e93066bdd0</td>\n",
       "      <td>Solution : a1400162-fd5f-4564-8393-c7e93066bdd...</td>\n",
       "      <td>999</td>\n",
       "      <td>Mutation</td>\n",
       "      <td>-97.556315</td>\n",
       "      <td>10440000</td>\n",
       "      <td>0</td>\n",
       "      <td>1.147876</td>\n",
       "    </tr>\n",
       "    <tr>\n",
       "      <th>1</th>\n",
       "      <td>7d26d624-6ba4-4aad-b6a8-5adad7b28117</td>\n",
       "      <td>Solution : 7d26d624-6ba4-4aad-b6a8-5adad7b2811...</td>\n",
       "      <td>999</td>\n",
       "      <td>Mutation</td>\n",
       "      <td>-97.581449</td>\n",
       "      <td>10440000</td>\n",
       "      <td>0</td>\n",
       "      <td>1.148104</td>\n",
       "    </tr>\n",
       "    <tr>\n",
       "      <th>2</th>\n",
       "      <td>a0cba035-31bf-48aa-8a9c-1ac29b76d1db</td>\n",
       "      <td>Solution : a0cba035-31bf-48aa-8a9c-1ac29b76d1d...</td>\n",
       "      <td>999</td>\n",
       "      <td>Mutation</td>\n",
       "      <td>-97.581449</td>\n",
       "      <td>10440000</td>\n",
       "      <td>0</td>\n",
       "      <td>1.148104</td>\n",
       "    </tr>\n",
       "    <tr>\n",
       "      <th>3</th>\n",
       "      <td>e6341d4f-ac51-4660-8b94-8f9161f28c47</td>\n",
       "      <td>Solution : e6341d4f-ac51-4660-8b94-8f9161f28c4...</td>\n",
       "      <td>999</td>\n",
       "      <td>Mutation</td>\n",
       "      <td>-97.648610</td>\n",
       "      <td>10440000</td>\n",
       "      <td>0</td>\n",
       "      <td>1.148715</td>\n",
       "    </tr>\n",
       "    <tr>\n",
       "      <th>4</th>\n",
       "      <td>feaa2355-8cad-460a-af65-bb192668c62a</td>\n",
       "      <td>Solution : feaa2355-8cad-460a-af65-bb192668c62...</td>\n",
       "      <td>997</td>\n",
       "      <td>Crossover</td>\n",
       "      <td>-98.505421</td>\n",
       "      <td>10160000</td>\n",
       "      <td>0</td>\n",
       "      <td>1.149504</td>\n",
       "    </tr>\n",
       "    <tr>\n",
       "      <th>...</th>\n",
       "      <td>...</td>\n",
       "      <td>...</td>\n",
       "      <td>...</td>\n",
       "      <td>...</td>\n",
       "      <td>...</td>\n",
       "      <td>...</td>\n",
       "      <td>...</td>\n",
       "      <td>...</td>\n",
       "    </tr>\n",
       "    <tr>\n",
       "      <th>295</th>\n",
       "      <td>634172c7-35a0-4176-9be9-d3feef9e2b5c</td>\n",
       "      <td>Solution : 634172c7-35a0-4176-9be9-d3feef9e2b5...</td>\n",
       "      <td>1000</td>\n",
       "      <td>Crossover</td>\n",
       "      <td>-100.124262</td>\n",
       "      <td>9820000</td>\n",
       "      <td>300</td>\n",
       "      <td>1.455721</td>\n",
       "    </tr>\n",
       "    <tr>\n",
       "      <th>296</th>\n",
       "      <td>be4fe314-6c7e-4de7-9d54-ac9d8dfcc23b</td>\n",
       "      <td>Solution : be4fe314-6c7e-4de7-9d54-ac9d8dfcc23...</td>\n",
       "      <td>1000</td>\n",
       "      <td>Mutation</td>\n",
       "      <td>-100.535757</td>\n",
       "      <td>21780000</td>\n",
       "      <td>0</td>\n",
       "      <td>1.458461</td>\n",
       "    </tr>\n",
       "    <tr>\n",
       "      <th>297</th>\n",
       "      <td>9b651c0c-33c6-4684-92a1-d456292def18</td>\n",
       "      <td>Solution : 9b651c0c-33c6-4684-92a1-d456292def1...</td>\n",
       "      <td>1000</td>\n",
       "      <td>Crossover</td>\n",
       "      <td>-100.734999</td>\n",
       "      <td>9820000</td>\n",
       "      <td>300</td>\n",
       "      <td>1.461273</td>\n",
       "    </tr>\n",
       "    <tr>\n",
       "      <th>298</th>\n",
       "      <td>543ce218-f49b-47ca-a6bc-c4973a43d2d4</td>\n",
       "      <td>Solution : 543ce218-f49b-47ca-a6bc-c4973a43d2d...</td>\n",
       "      <td>1000</td>\n",
       "      <td>Crossover</td>\n",
       "      <td>-101.387943</td>\n",
       "      <td>9820000</td>\n",
       "      <td>300</td>\n",
       "      <td>1.467209</td>\n",
       "    </tr>\n",
       "    <tr>\n",
       "      <th>299</th>\n",
       "      <td>31590254-51aa-4e13-9ecc-3a9528dc97f5</td>\n",
       "      <td>Solution : 31590254-51aa-4e13-9ecc-3a9528dc97f...</td>\n",
       "      <td>1000</td>\n",
       "      <td>Randomize</td>\n",
       "      <td>-95.669481</td>\n",
       "      <td>23960000</td>\n",
       "      <td>0</td>\n",
       "      <td>1.468723</td>\n",
       "    </tr>\n",
       "  </tbody>\n",
       "</table>\n",
       "<p>300 rows × 8 columns</p>\n",
       "</div>"
      ],
      "text/plain": [
       "                              solution_id  \\\n",
       "0    a1400162-fd5f-4564-8393-c7e93066bdd0   \n",
       "1    7d26d624-6ba4-4aad-b6a8-5adad7b28117   \n",
       "2    a0cba035-31bf-48aa-8a9c-1ac29b76d1db   \n",
       "3    e6341d4f-ac51-4660-8b94-8f9161f28c47   \n",
       "4    feaa2355-8cad-460a-af65-bb192668c62a   \n",
       "..                                    ...   \n",
       "295  634172c7-35a0-4176-9be9-d3feef9e2b5c   \n",
       "296  be4fe314-6c7e-4de7-9d54-ac9d8dfcc23b   \n",
       "297  9b651c0c-33c6-4684-92a1-d456292def18   \n",
       "298  543ce218-f49b-47ca-a6bc-c4973a43d2d4   \n",
       "299  31590254-51aa-4e13-9ecc-3a9528dc97f5   \n",
       "\n",
       "                                          solution_obj  from_generation  \\\n",
       "0    Solution : a1400162-fd5f-4564-8393-c7e93066bdd...              999   \n",
       "1    Solution : 7d26d624-6ba4-4aad-b6a8-5adad7b2811...              999   \n",
       "2    Solution : a0cba035-31bf-48aa-8a9c-1ac29b76d1d...              999   \n",
       "3    Solution : e6341d4f-ac51-4660-8b94-8f9161f28c4...              999   \n",
       "4    Solution : feaa2355-8cad-460a-af65-bb192668c62...              997   \n",
       "..                                                 ...              ...   \n",
       "295  Solution : 634172c7-35a0-4176-9be9-d3feef9e2b5...             1000   \n",
       "296  Solution : be4fe314-6c7e-4de7-9d54-ac9d8dfcc23...             1000   \n",
       "297  Solution : 9b651c0c-33c6-4684-92a1-d456292def1...             1000   \n",
       "298  Solution : 543ce218-f49b-47ca-a6bc-c4973a43d2d...             1000   \n",
       "299  Solution : 31590254-51aa-4e13-9ecc-3a9528dc97f...             1000   \n",
       "\n",
       "    from_method  signal_strength  construction_cost  num_orphans  \\\n",
       "0      Mutation       -97.556315           10440000            0   \n",
       "1      Mutation       -97.581449           10440000            0   \n",
       "2      Mutation       -97.581449           10440000            0   \n",
       "3      Mutation       -97.648610           10440000            0   \n",
       "4     Crossover       -98.505421           10160000            0   \n",
       "..          ...              ...                ...          ...   \n",
       "295   Crossover      -100.124262            9820000          300   \n",
       "296    Mutation      -100.535757           21780000            0   \n",
       "297   Crossover      -100.734999            9820000          300   \n",
       "298   Crossover      -101.387943            9820000          300   \n",
       "299   Randomize       -95.669481           23960000            0   \n",
       "\n",
       "     fitness_value  \n",
       "0         1.147876  \n",
       "1         1.148104  \n",
       "2         1.148104  \n",
       "3         1.148715  \n",
       "4         1.149504  \n",
       "..             ...  \n",
       "295       1.455721  \n",
       "296       1.458461  \n",
       "297       1.461273  \n",
       "298       1.467209  \n",
       "299       1.468723  \n",
       "\n",
       "[300 rows x 8 columns]"
      ]
     },
     "execution_count": 24,
     "metadata": {},
     "output_type": "execute_result"
    }
   ],
   "source": [
    "solutions"
   ]
  },
  {
   "cell_type": "code",
   "execution_count": null,
   "id": "6e0ebc24-c62a-48e6-b487-f06fa19acb18",
   "metadata": {},
   "outputs": [],
   "source": []
  },
  {
   "cell_type": "code",
   "execution_count": 25,
   "id": "c32d9acc-c940-4efa-9539-0d35502cadf0",
   "metadata": {},
   "outputs": [],
   "source": [
    "pos = np.array([[s.x, s.y] for s in solutions[\"solution_obj\"].iloc[0].stations])"
   ]
  },
  {
   "cell_type": "code",
   "execution_count": 27,
   "id": "ba43499c-04fa-40a9-81ab-20105c737a3d",
   "metadata": {},
   "outputs": [
    {
     "data": {
      "text/plain": [
       "Text(0.5, 1.0, 'Pattern I (P = 0.32)')"
      ]
     },
     "execution_count": 27,
     "metadata": {},
     "output_type": "execute_result"
    },
    {
     "data": {
      "image/png": "[encoded data removed]",
      "text/plain": [
       "<Figure size 504x504 with 1 Axes>"
      ]
     },
     "metadata": {
      "needs_background": "light"
     },
     "output_type": "display_data"
    }
   ],
   "source": [
    "pos = np.array([[s.x, s.y] for s in solutions[\"solution_obj\"].iloc[0].stations])\n",
    "plt.figure(figsize=(7,7))\n",
    "plt.scatter(data[1][:,0], data[1][:,1], s=1.5)\n",
    "plt.scatter(pos[:,0], pos[:,1], s=30)\n",
    "plt.title(\"Pattern I (P = 0.32)\")"
   ]
  },
  {
   "cell_type": "code",
   "execution_count": 22,
   "id": "fbd16a3a-d3b3-4313-b4d9-2ec7c1bc425a",
   "metadata": {},
   "outputs": [
    {
     "data": {
      "application/vnd.jupyter.widget-view+json": {
       "model_id": "3ebb24cc831b4abea720c92fdd33311c",
       "version_major": 2,
       "version_minor": 0
      },
      "text/plain": [
       "  0%|          | 0/20 [00:00<?, ?it/s]"
      ]
     },
     "metadata": {},
     "output_type": "display_data"
    }
   ],
   "source": [
    "for i in tqdm(range(solutions.shape[0])):\n",
    "    pos = np.array([[s.x, s.y] for s in solutions[\"solution_obj\"].iloc[i].stations])\n",
    "    plt.figure(figsize=(7,7))\n",
    "    plt.scatter(data[0][:,0], data[0][:,1], s=1.5)\n",
    "    plt.scatter(pos[:,0], pos[:,1], s=30)\n",
    "    plt.title(f\"Fitness: {solutions['solution_obj'].iloc[i].fitness:.4f}\")\n",
    "    plt.suptitle(f'Solutions from Iter: {i:04d}', fontsize=16)\n",
    "    plt.savefig(f\"figure/test/output-{i:04d}.png\")\n",
    "    plt.close()"
   ]
  },
  {
   "cell_type": "markdown",
   "id": "ff8809b4-2410-4f1c-a624-64154dc434d0",
   "metadata": {},
   "source": [
    "---"
   ]
  },
  {
   "cell_type": "code",
   "execution_count": 19,
   "id": "acbc6381-3d09-4581-9ec7-83b3ab5fcbf0",
   "metadata": {},
   "outputs": [],
   "source": [
    "data = []\n",
    "fnames = glob.glob(\"position/*.dat\")\n",
    "for fname in fnames:\n",
    "    X = pickle.load(open(fname, \"rb\"))\n",
    "    data.append(X)"
   ]
  },
  {
   "cell_type": "code",
   "execution_count": 20,
   "id": "a0a738b8-16d0-4701-adc0-281e27e513b8",
   "metadata": {},
   "outputs": [],
   "source": [
    "bound_max = 800\n",
    "bound_min = -800"
   ]
  },
  {
   "cell_type": "code",
   "execution_count": 29,
   "id": "87bb365c-c31b-4bc6-b2cf-cab71140ec72",
   "metadata": {},
   "outputs": [
    {
     "data": {
      "application/vnd.jupyter.widget-view+json": {
       "model_id": "9336eaa6ee074a22b50c37eb7567081a",
       "version_major": 2,
       "version_minor": 0
      },
      "text/plain": [
       "  0%|          | 0/101 [00:00<?, ?it/s]"
      ]
     },
     "metadata": {},
     "output_type": "display_data"
    }
   ],
   "source": [
    "for i in tqdm(range(solutions.shape[0])):\n",
    "    pos = np.array([[s.x, s.y] for s in solutions[\"solution_obj\"].iloc[i].stations])\n",
    "    fig, axs = plt.subplots(2,3, figsize=(17,10), sharex=True, sharey=True)\n",
    "    fig.suptitle(f'Solutions from Iter: {i:04d}', fontsize=16)\n",
    "    plt.xlim(-900, 900)\n",
    "    plt.ylim(-900, 900)\n",
    "\n",
    "    axs[0][0].scatter(data[0][:,0], data[0][:,1], s=1.5)\n",
    "    axs[0][0].scatter(pos[:,0], pos[:,1], s=30)\n",
    "    axs[0][0].set_title(\"Pattern I (P = 0.32)\")\n",
    "\n",
    "    axs[0][1].scatter(data[1][:,0], data[1][:,1], s=1.5)\n",
    "    axs[0][1].scatter(pos[:,0], pos[:,1], s=30)\n",
    "    axs[0][1].set_title(\"Pattern II (P = 0.25)\")\n",
    "\n",
    "    axs[0][2].scatter(data[2][:,0], data[2][:,1], s=1.5)\n",
    "    axs[0][2].scatter(pos[:,0], pos[:,1], s=30)\n",
    "    axs[0][2].set_title(\"Pattern III (P = 0.17)\")\n",
    "\n",
    "    axs[1][0].scatter(data[3][:,0], data[3][:,1], s=1.5)\n",
    "    axs[1][0].scatter(pos[:,0], pos[:,1], s=30)\n",
    "    axs[1][0].set_title(\"Pattern IV (P = 0.14)\")\n",
    "\n",
    "    axs[1][1].scatter(data[4][:,0], data[4][:,1], s=1.5)\n",
    "    axs[1][1].scatter(pos[:,0], pos[:,1], s=30)\n",
    "    axs[1][1].set_title(\"Pattern V (P = 0.09)\")\n",
    "\n",
    "    axs[1][2].scatter(data[5][:,0], data[5][:,1], s=1.5)\n",
    "    axs[1][2].scatter(pos[:,0], pos[:,1], s=30)\n",
    "    axs[1][2].set_title(\"Pattern VI (P = 0.03)\")\n",
    "\n",
    "    plt.savefig(f\"figure/iter_best_001-{i:04d}.png\")\n",
    "    plt.close()"
   ]
  },
  {
   "cell_type": "code",
   "execution_count": 32,
   "id": "a7d551e6-0f5a-4719-bddf-5b0a1207bd5a",
   "metadata": {},
   "outputs": [
    {
     "name": "stderr",
     "output_type": "stream",
     "text": [
      "/tmp/ipykernel_255203/2258210362.py:3: DeprecationWarning: Starting with ImageIO v3 the behavior of this function will switch to that of iio.v3.imread. To keep the current behavior (and make this warning disappear) use `import imageio.v2 as imageio` or call `imageio.v2.imread` directly.\n",
      "  image = imageio.imread(filename)\n"
     ]
    }
   ],
   "source": [
    "with imageio.get_writer('figure/iter_best_001-animated.gif', mode='I', duration = 0.5) as writer:\n",
    "    for filename in sorted(glob.glob(\"figure/iter_best_001*.png\")):\n",
    "        image = imageio.imread(filename)\n",
    "        writer.append_data(image)"
   ]
  },
  {
   "cell_type": "code",
   "execution_count": 4,
   "id": "d6689b2e-6c90-4cf9-9dce-e5562a4c4780",
   "metadata": {},
   "outputs": [],
   "source": [
    "solutions = pd.read_pickle(\"solutions/solution-0760.pkl.bz2\")"
   ]
  },
  {
   "cell_type": "code",
   "execution_count": 9,
   "id": "0b6e6bbc-26cf-46f1-a415-ec0e6c03463b",
   "metadata": {},
   "outputs": [
    {
     "data": {
      "text/html": [
       "<div>\n",
       "<style scoped>\n",
       "    .dataframe tbody tr th:only-of-type {\n",
       "        vertical-align: middle;\n",
       "    }\n",
       "\n",
       "    .dataframe tbody tr th {\n",
       "        vertical-align: top;\n",
       "    }\n",
       "\n",
       "    .dataframe thead th {\n",
       "        text-align: right;\n",
       "    }\n",
       "</style>\n",
       "<table border=\"1\" class=\"dataframe\">\n",
       "  <thead>\n",
       "    <tr style=\"text-align: right;\">\n",
       "      <th></th>\n",
       "      <th>solution_id</th>\n",
       "    </tr>\n",
       "    <tr>\n",
       "      <th>from_generation</th>\n",
       "      <th></th>\n",
       "    </tr>\n",
       "  </thead>\n",
       "  <tbody>\n",
       "    <tr>\n",
       "      <th>422</th>\n",
       "      <td>1</td>\n",
       "    </tr>\n",
       "    <tr>\n",
       "      <th>432</th>\n",
       "      <td>1</td>\n",
       "    </tr>\n",
       "    <tr>\n",
       "      <th>438</th>\n",
       "      <td>1</td>\n",
       "    </tr>\n",
       "    <tr>\n",
       "      <th>445</th>\n",
       "      <td>1</td>\n",
       "    </tr>\n",
       "    <tr>\n",
       "      <th>452</th>\n",
       "      <td>1</td>\n",
       "    </tr>\n",
       "    <tr>\n",
       "      <th>...</th>\n",
       "      <td>...</td>\n",
       "    </tr>\n",
       "    <tr>\n",
       "      <th>755</th>\n",
       "      <td>2</td>\n",
       "    </tr>\n",
       "    <tr>\n",
       "      <th>757</th>\n",
       "      <td>2</td>\n",
       "    </tr>\n",
       "    <tr>\n",
       "      <th>758</th>\n",
       "      <td>6</td>\n",
       "    </tr>\n",
       "    <tr>\n",
       "      <th>759</th>\n",
       "      <td>9</td>\n",
       "    </tr>\n",
       "    <tr>\n",
       "      <th>760</th>\n",
       "      <td>150</td>\n",
       "    </tr>\n",
       "  </tbody>\n",
       "</table>\n",
       "<p>96 rows × 1 columns</p>\n",
       "</div>"
      ],
      "text/plain": [
       "                 solution_id\n",
       "from_generation             \n",
       "422                        1\n",
       "432                        1\n",
       "438                        1\n",
       "445                        1\n",
       "452                        1\n",
       "...                      ...\n",
       "755                        2\n",
       "757                        2\n",
       "758                        6\n",
       "759                        9\n",
       "760                      150\n",
       "\n",
       "[96 rows x 1 columns]"
      ]
     },
     "execution_count": 9,
     "metadata": {},
     "output_type": "execute_result"
    }
   ],
   "source": [
    "solutions.groupby(\"from_generation\")[[\"solution_id\"]].count().sort_index()"
   ]
  },
  {
   "cell_type": "code",
   "execution_count": null,
   "id": "de9d6fc0-36a9-4acc-bb89-7ccc0d561740",
   "metadata": {},
   "outputs": [],
   "source": []
  }
 ],
 "metadata": {
  "kernelspec": {
   "display_name": "Python 3 (ipykernel)",
   "language": "python",
   "name": "python3"
  },
  "language_info": {
   "codemirror_mode": {
    "name": "ipython",
    "version": 3
   },
   "file_extension": ".py",
   "mimetype": "text/x-python",
   "name": "python",
   "nbconvert_exporter": "python",
   "pygments_lexer": "ipython3",
   "version": "3.9.7"
  }
 },
 "nbformat": 4,
 "nbformat_minor": 5
}
